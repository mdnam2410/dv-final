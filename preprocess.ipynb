{
 "cells": [
  {
   "cell_type": "code",
   "execution_count": 1,
   "id": "42aa7670",
   "metadata": {},
   "outputs": [],
   "source": [
    "import json\n",
    "import numpy as np\n",
    "import pandas as pd"
   ]
  },
  {
   "cell_type": "markdown",
   "id": "8b5cad81",
   "metadata": {},
   "source": [
    "# Nạp file vào dataframe"
   ]
  },
  {
   "cell_type": "code",
   "execution_count": 2,
   "id": "d612c6ac",
   "metadata": {},
   "outputs": [],
   "source": [
    "df = None\n",
    "lines_with_errors = []\n",
    "\n",
    "with open('data/university_diemchuan_total', encoding='utf8') as f:\n",
    "    # The first line doesn't have any data, so we skip it to let\n",
    "    # other lines define the dataframe columns\n",
    "    first_line = f.readline()\n",
    "    \n",
    "    for line in f.readlines():\n",
    "        try:\n",
    "            json_data = json.loads(line.strip())\n",
    "        except:\n",
    "            lines_with_errors.append(line)\n",
    "        \n",
    "        # Create a subtable for each line\n",
    "        grades = json_data['diemchuan_datas']\n",
    "        university_meta = json_data['university_meta']\n",
    "        \n",
    "        table = pd.read_json(json.dumps(grades), orient='records')\n",
    "        table['university_code'] = university_meta['university_code']\n",
    "        table['university_name'] = university_meta['university_name']\n",
    "        table['url'] = university_meta['url']\n",
    "        \n",
    "        # Append to the final dataframe\n",
    "        df = table if df is None else pd.concat([df, table])"
   ]
  },
  {
   "cell_type": "code",
   "execution_count": 3,
   "id": "e895f923",
   "metadata": {},
   "outputs": [
    {
     "data": {
      "text/plain": [
       "2"
      ]
     },
     "execution_count": 3,
     "metadata": {},
     "output_type": "execute_result"
    }
   ],
   "source": [
    "len(lines_with_errors)"
   ]
  },
  {
   "cell_type": "markdown",
   "id": "9c08c57e",
   "metadata": {},
   "source": [
    "# Tiền xử lý"
   ]
  },
  {
   "cell_type": "code",
   "execution_count": 4,
   "id": "d121dda2",
   "metadata": {},
   "outputs": [],
   "source": [
    "df['point'] = df['point'].replace(to_replace={'---': np.nan}).astype(float)"
   ]
  },
  {
   "cell_type": "code",
   "execution_count": 5,
   "id": "3c6bbc2a",
   "metadata": {},
   "outputs": [],
   "source": [
    "df = df.sort_values('year')"
   ]
  },
  {
   "cell_type": "code",
   "execution_count": 6,
   "id": "29f485b8",
   "metadata": {},
   "outputs": [],
   "source": [
    "df = df.reset_index(drop=True)"
   ]
  },
  {
   "cell_type": "markdown",
   "id": "7ff9c5d3",
   "metadata": {},
   "source": [
    "# Xem sơ qua data"
   ]
  },
  {
   "cell_type": "code",
   "execution_count": 7,
   "id": "0365e0a6",
   "metadata": {},
   "outputs": [
    {
     "data": {
      "text/html": [
       "<div>\n",
       "<style scoped>\n",
       "    .dataframe tbody tr th:only-of-type {\n",
       "        vertical-align: middle;\n",
       "    }\n",
       "\n",
       "    .dataframe tbody tr th {\n",
       "        vertical-align: top;\n",
       "    }\n",
       "\n",
       "    .dataframe thead th {\n",
       "        text-align: right;\n",
       "    }\n",
       "</style>\n",
       "<table border=\"1\" class=\"dataframe\">\n",
       "  <thead>\n",
       "    <tr style=\"text-align: right;\">\n",
       "      <th></th>\n",
       "      <th>major_code</th>\n",
       "      <th>major_name</th>\n",
       "      <th>subject_group</th>\n",
       "      <th>point</th>\n",
       "      <th>note</th>\n",
       "      <th>year</th>\n",
       "      <th>university_code</th>\n",
       "      <th>university_name</th>\n",
       "      <th>url</th>\n",
       "    </tr>\n",
       "  </thead>\n",
       "  <tbody>\n",
       "    <tr>\n",
       "      <th>0</th>\n",
       "      <td>7620301</td>\n",
       "      <td>Nuôi trồng thủy sản</td>\n",
       "      <td>B</td>\n",
       "      <td>14.0</td>\n",
       "      <td></td>\n",
       "      <td>2014.0</td>\n",
       "      <td>HDT</td>\n",
       "      <td>Đại Học Hồng Đức</td>\n",
       "      <td>https://diemthi.tuyensinh247.com/diem-chuan/da...</td>\n",
       "    </tr>\n",
       "    <tr>\n",
       "      <th>1</th>\n",
       "      <td>7480101</td>\n",
       "      <td>Khoa học máy tính</td>\n",
       "      <td>A</td>\n",
       "      <td>26.5</td>\n",
       "      <td>(đã nhân hệ số 2 môn Toán)</td>\n",
       "      <td>2014.0</td>\n",
       "      <td>QSC</td>\n",
       "      <td>Đại Học Công Nghệ Thông Tin – Đại Học Quốc Gia...</td>\n",
       "      <td>https://diemthi.tuyensinh247.com/diem-chuan/da...</td>\n",
       "    </tr>\n",
       "    <tr>\n",
       "      <th>2</th>\n",
       "      <td>7620301</td>\n",
       "      <td>Nuôi trồng thủy sản</td>\n",
       "      <td>A</td>\n",
       "      <td>14.5</td>\n",
       "      <td></td>\n",
       "      <td>2014.0</td>\n",
       "      <td>DHL</td>\n",
       "      <td>Đại Học Nông Lâm – Đại Học Huế</td>\n",
       "      <td>https://diemthi.tuyensinh247.com/diem-chuan/da...</td>\n",
       "    </tr>\n",
       "    <tr>\n",
       "      <th>3</th>\n",
       "      <td>7850103</td>\n",
       "      <td>Quản lý đất đai</td>\n",
       "      <td>A</td>\n",
       "      <td>14.5</td>\n",
       "      <td></td>\n",
       "      <td>2014.0</td>\n",
       "      <td>DHL</td>\n",
       "      <td>Đại Học Nông Lâm – Đại Học Huế</td>\n",
       "      <td>https://diemthi.tuyensinh247.com/diem-chuan/da...</td>\n",
       "    </tr>\n",
       "    <tr>\n",
       "      <th>4</th>\n",
       "      <td>7620105</td>\n",
       "      <td>Chăn nuôi</td>\n",
       "      <td>A</td>\n",
       "      <td>16.0</td>\n",
       "      <td></td>\n",
       "      <td>2014.0</td>\n",
       "      <td>DHL</td>\n",
       "      <td>Đại Học Nông Lâm – Đại Học Huế</td>\n",
       "      <td>https://diemthi.tuyensinh247.com/diem-chuan/da...</td>\n",
       "    </tr>\n",
       "  </tbody>\n",
       "</table>\n",
       "</div>"
      ],
      "text/plain": [
       "  major_code           major_name subject_group  point  \\\n",
       "0    7620301  Nuôi trồng thủy sản             B   14.0   \n",
       "1    7480101    Khoa học máy tính             A   26.5   \n",
       "2    7620301  Nuôi trồng thủy sản             A   14.5   \n",
       "3    7850103      Quản lý đất đai             A   14.5   \n",
       "4    7620105            Chăn nuôi             A   16.0   \n",
       "\n",
       "                         note    year university_code  \\\n",
       "0                              2014.0             HDT   \n",
       "1  (đã nhân hệ số 2 môn Toán)  2014.0             QSC   \n",
       "2                              2014.0             DHL   \n",
       "3                              2014.0             DHL   \n",
       "4                              2014.0             DHL   \n",
       "\n",
       "                                     university_name  \\\n",
       "0                                   Đại Học Hồng Đức   \n",
       "1  Đại Học Công Nghệ Thông Tin – Đại Học Quốc Gia...   \n",
       "2                     Đại Học Nông Lâm – Đại Học Huế   \n",
       "3                     Đại Học Nông Lâm – Đại Học Huế   \n",
       "4                     Đại Học Nông Lâm – Đại Học Huế   \n",
       "\n",
       "                                                 url  \n",
       "0  https://diemthi.tuyensinh247.com/diem-chuan/da...  \n",
       "1  https://diemthi.tuyensinh247.com/diem-chuan/da...  \n",
       "2  https://diemthi.tuyensinh247.com/diem-chuan/da...  \n",
       "3  https://diemthi.tuyensinh247.com/diem-chuan/da...  \n",
       "4  https://diemthi.tuyensinh247.com/diem-chuan/da...  "
      ]
     },
     "execution_count": 7,
     "metadata": {},
     "output_type": "execute_result"
    }
   ],
   "source": [
    "df.head()"
   ]
  },
  {
   "cell_type": "code",
   "execution_count": 8,
   "id": "eca684c2",
   "metadata": {},
   "outputs": [
    {
     "data": {
      "text/plain": [
       "(68793, 9)"
      ]
     },
     "execution_count": 8,
     "metadata": {},
     "output_type": "execute_result"
    }
   ],
   "source": [
    "df.shape"
   ]
  },
  {
   "cell_type": "code",
   "execution_count": 9,
   "id": "817b6a2b",
   "metadata": {},
   "outputs": [
    {
     "data": {
      "text/plain": [
       "major_code          object\n",
       "major_name          object\n",
       "subject_group       object\n",
       "point              float64\n",
       "note                object\n",
       "year               float64\n",
       "university_code     object\n",
       "university_name     object\n",
       "url                 object\n",
       "dtype: object"
      ]
     },
     "execution_count": 9,
     "metadata": {},
     "output_type": "execute_result"
    }
   ],
   "source": [
    "df.dtypes"
   ]
  },
  {
   "cell_type": "code",
   "execution_count": 10,
   "id": "eeeb5a5a",
   "metadata": {},
   "outputs": [
    {
     "data": {
      "text/plain": [
       "<AxesSubplot:>"
      ]
     },
     "execution_count": 10,
     "metadata": {},
     "output_type": "execute_result"
    },
    {
     "data": {
      "image/png": "[encoded data removed]",
      "text/plain": [
       "<Figure size 432x288 with 1 Axes>"
      ]
     },
     "metadata": {
      "needs_background": "light"
     },
     "output_type": "display_data"
    }
   ],
   "source": [
    "df['year'].value_counts().sort_index().plot(kind='bar')"
   ]
  },
  {
   "cell_type": "markdown",
   "id": "903c3e62",
   "metadata": {},
   "source": [
    "# Lưu file"
   ]
  },
  {
   "cell_type": "code",
   "execution_count": 11,
   "id": "b9d905fe",
   "metadata": {},
   "outputs": [],
   "source": [
    "df.to_csv('data/admission_score.csv')"
   ]
  }
 ],
 "metadata": {
  "kernelspec": {
   "display_name": "Python 3 (ipykernel)",
   "language": "python",
   "name": "python3"
  },
  "language_info": {
   "codemirror_mode": {
    "name": "ipython",
    "version": 3
   },
   "file_extension": ".py",
   "mimetype": "text/x-python",
   "name": "python",
   "nbconvert_exporter": "python",
   "pygments_lexer": "ipython3",
   "version": "3.9.12"
  }
 },
 "nbformat": 4,
 "nbformat_minor": 5
}
