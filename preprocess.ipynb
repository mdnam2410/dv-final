{
 "cells": [
  {
   "cell_type": "code",
   "execution_count": 62,
   "id": "42aa7670",
   "metadata": {},
   "outputs": [],
   "source": [
    "import json\n",
    "import numpy as np\n",
    "import pandas as pd"
   ]
  },
  {
   "cell_type": "code",
   "execution_count": 53,
   "id": "d612c6ac",
   "metadata": {},
   "outputs": [],
   "source": [
    "df = None\n",
    "lines_with_errors = []\n",
    "\n",
    "with open('university_diemchuan', encoding='utf8') as f:\n",
    "    # The first line doesn't have any data, so we skip it to let\n",
    "    # other lines define the dataframe columns\n",
    "    first_line = f.readline()\n",
    "    \n",
    "    for line in f.readlines():\n",
    "        try:\n",
    "            json_data = json.loads(line.strip())\n",
    "        except:\n",
    "            lines_with_errors.append(line)\n",
    "        \n",
    "        # Create a subtable for each line\n",
    "        grades = json_data['diemchuan_datas']\n",
    "        university_meta = json_data['university_meta']\n",
    "        \n",
    "        table = pd.read_json(json.dumps(grades), orient='records')\n",
    "        table['university_code'] = university_meta['university_code']\n",
    "        table['university_name'] = university_meta['university_name']\n",
    "        table['url'] = university_meta['url']\n",
    "        \n",
    "        # Append to the final dataframe\n",
    "        df = table if df is None else pd.concat([df, table])"
   ]
  },
  {
   "cell_type": "code",
   "execution_count": 56,
   "id": "0365e0a6",
   "metadata": {},
   "outputs": [
    {
     "data": {
      "text/html": [
       "<div>\n",
       "<style scoped>\n",
       "    .dataframe tbody tr th:only-of-type {\n",
       "        vertical-align: middle;\n",
       "    }\n",
       "\n",
       "    .dataframe tbody tr th {\n",
       "        vertical-align: top;\n",
       "    }\n",
       "\n",
       "    .dataframe thead th {\n",
       "        text-align: right;\n",
       "    }\n",
       "</style>\n",
       "<table border=\"1\" class=\"dataframe\">\n",
       "  <thead>\n",
       "    <tr style=\"text-align: right;\">\n",
       "      <th></th>\n",
       "      <th>major_code</th>\n",
       "      <th>major_name</th>\n",
       "      <th>subject_group</th>\n",
       "      <th>point</th>\n",
       "      <th>note</th>\n",
       "      <th>year</th>\n",
       "      <th>university_code</th>\n",
       "      <th>university_name</th>\n",
       "      <th>url</th>\n",
       "    </tr>\n",
       "  </thead>\n",
       "  <tbody>\n",
       "    <tr>\n",
       "      <th>0</th>\n",
       "      <td>7720101</td>\n",
       "      <td>Y khoa</td>\n",
       "      <td>A02</td>\n",
       "      <td>21.0</td>\n",
       "      <td></td>\n",
       "      <td>2019.0</td>\n",
       "      <td>BMU</td>\n",
       "      <td>Đại học Buôn Ma Thuột</td>\n",
       "      <td>https://diemthi.tuyensinh247.com/diem-chuan/da...</td>\n",
       "    </tr>\n",
       "    <tr>\n",
       "      <th>1</th>\n",
       "      <td>7720101</td>\n",
       "      <td>Y khoa</td>\n",
       "      <td>B00</td>\n",
       "      <td>21.0</td>\n",
       "      <td></td>\n",
       "      <td>2019.0</td>\n",
       "      <td>BMU</td>\n",
       "      <td>Đại học Buôn Ma Thuột</td>\n",
       "      <td>https://diemthi.tuyensinh247.com/diem-chuan/da...</td>\n",
       "    </tr>\n",
       "    <tr>\n",
       "      <th>2</th>\n",
       "      <td>7720101</td>\n",
       "      <td>Y khoa</td>\n",
       "      <td>D08</td>\n",
       "      <td>21.0</td>\n",
       "      <td></td>\n",
       "      <td>2019.0</td>\n",
       "      <td>BMU</td>\n",
       "      <td>Đại học Buôn Ma Thuột</td>\n",
       "      <td>https://diemthi.tuyensinh247.com/diem-chuan/da...</td>\n",
       "    </tr>\n",
       "    <tr>\n",
       "      <th>3</th>\n",
       "      <td>7720201</td>\n",
       "      <td>Dược học</td>\n",
       "      <td>A00</td>\n",
       "      <td>20.0</td>\n",
       "      <td></td>\n",
       "      <td>2019.0</td>\n",
       "      <td>BMU</td>\n",
       "      <td>Đại học Buôn Ma Thuột</td>\n",
       "      <td>https://diemthi.tuyensinh247.com/diem-chuan/da...</td>\n",
       "    </tr>\n",
       "    <tr>\n",
       "      <th>4</th>\n",
       "      <td>7720201</td>\n",
       "      <td>Dược học</td>\n",
       "      <td>B00</td>\n",
       "      <td>20.0</td>\n",
       "      <td></td>\n",
       "      <td>2019.0</td>\n",
       "      <td>BMU</td>\n",
       "      <td>Đại học Buôn Ma Thuột</td>\n",
       "      <td>https://diemthi.tuyensinh247.com/diem-chuan/da...</td>\n",
       "    </tr>\n",
       "  </tbody>\n",
       "</table>\n",
       "</div>"
      ],
      "text/plain": [
       "  major_code major_name subject_group point note    year university_code  \\\n",
       "0    7720101     Y khoa           A02  21.0       2019.0             BMU   \n",
       "1    7720101     Y khoa           B00  21.0       2019.0             BMU   \n",
       "2    7720101     Y khoa           D08  21.0       2019.0             BMU   \n",
       "3    7720201   Dược học           A00  20.0       2019.0             BMU   \n",
       "4    7720201   Dược học           B00  20.0       2019.0             BMU   \n",
       "\n",
       "         university_name                                                url  \n",
       "0  Đại học Buôn Ma Thuột  https://diemthi.tuyensinh247.com/diem-chuan/da...  \n",
       "1  Đại học Buôn Ma Thuột  https://diemthi.tuyensinh247.com/diem-chuan/da...  \n",
       "2  Đại học Buôn Ma Thuột  https://diemthi.tuyensinh247.com/diem-chuan/da...  \n",
       "3  Đại học Buôn Ma Thuột  https://diemthi.tuyensinh247.com/diem-chuan/da...  \n",
       "4  Đại học Buôn Ma Thuột  https://diemthi.tuyensinh247.com/diem-chuan/da...  "
      ]
     },
     "execution_count": 56,
     "metadata": {},
     "output_type": "execute_result"
    }
   ],
   "source": [
    "df.head()"
   ]
  },
  {
   "cell_type": "code",
   "execution_count": 65,
   "id": "d121dda2",
   "metadata": {},
   "outputs": [],
   "source": [
    "df['point'] = df['point'].replace(to_replace={'---': np.nan}).astype(float)"
   ]
  },
  {
   "cell_type": "code",
   "execution_count": 75,
   "id": "b9d905fe",
   "metadata": {},
   "outputs": [],
   "source": [
    "df.to_csv('admission_score.csv')"
   ]
  }
 ],
 "metadata": {
  "kernelspec": {
   "display_name": "Python 3 (ipykernel)",
   "language": "python",
   "name": "python3"
  },
  "language_info": {
   "codemirror_mode": {
    "name": "ipython",
    "version": 3
   },
   "file_extension": ".py",
   "mimetype": "text/x-python",
   "name": "python",
   "nbconvert_exporter": "python",
   "pygments_lexer": "ipython3",
   "version": "3.9.12"
  }
 },
 "nbformat": 4,
 "nbformat_minor": 5
}
