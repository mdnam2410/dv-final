{
 "cells": [
  {
   "cell_type": "code",
   "execution_count": 1,
   "id": "5d014e7e",
   "metadata": {},
   "outputs": [],
   "source": [
    "import pandas as pd\n",
    "import re\n",
    "import numpy as np"
   ]
  },
  {
   "cell_type": "code",
   "execution_count": 2,
   "id": "7bbc5995",
   "metadata": {},
   "outputs": [
    {
     "data": {
      "text/plain": [
       "array(['A00', 'A01', 'C01', 'D01', 'D14', 'D15', 'A02', 'B00', 'D07',\n",
       "       'D08', 'D02', 'D03', 'D04', 'D06', 'C00', 'A04', 'M00', 'M01',\n",
       "       'M02', 'C02', '0', 'V00', 'V01', 'T00', 'T01', 'C14', 'C15', 'D10',\n",
       "       'H01', 'H02', 'H03', 'H04', 'V02', 'V03', 'Toán', 'Văn', 'Anh',\n",
       "       'Vẽ\\r\\nToán', 'Lý', 'Hóa', 'Vẽ\\r\\n(Vẽ MT hệ số 2)', nan, 'B08',\n",
       "       '103', 'A10', 'D84', 'D66', 'C04', 'C05', 'C08', 'C19', 'D29',\n",
       "       'D44', 'D64', 'D24', 'B03', 'B02', 'A06', 'T06', 'M09', 'N00',\n",
       "       'H00', 'S00', 'R00', 'D90', 'D78', 'A08', 'A03', 'A07', 'A09',\n",
       "       'D96', 'B01', 'D09', 'C03', 'D68', 'D70', 'D62', 'D86', 'D87',\n",
       "       'D42', 'D05', 'M15', 'M14', 'M17', 'M22', 'M23', 'M25', 'M18',\n",
       "       'M21', 'M19', 'N01', 'N05', 'N07', 'N06', 'H05', 'H06', 'H07',\n",
       "       'N04', 'N02', 'N03', 'N08', 'M03', 'D72', 'A19', 'A16', 'A17',\n",
       "       'C16', 'D26', 'D27', 'D16', 'D17', 'D11', 'D82', 'D52', 'D54',\n",
       "       'D79', 'D80', 'D81', 'D83', 'V10', 'C20', 'K01', 'H08', 'A11',\n",
       "       'T03', 'V05', 'C22', 'S01', 'R12', 'R21', 'R13', 'R18', 'R06',\n",
       "       'R16', 'R22', 'R24', 'R25', 'R05', 'R19', 'R26', 'R15', 'R23',\n",
       "       'R11', 'R07', 'R08', 'R20', 'R09', 'R17', 'Tượng tròn', 'Bố cục',\n",
       "       'Hình họa', 'phù điêu', 'Bố cục và hình họa', 'trang trí', 'D97',\n",
       "       'DD0', 'D91', 'D94', '101', 'A15', 'D71', 'D65', 'DOI', 'B04',\n",
       "       'D00', 'C13', 'D28', 'D23', 'D95', 'D31', 'D22', 'D21', 'D30',\n",
       "       'D25', 'D18', 'D19', 'D32', 'D34', 'V11', 'D33', 'V07', 'D35',\n",
       "       'V09', 'V08', 'D20', 'D13', 'A20', '007', 'DD2', 'V06', 'A05',\n",
       "       'D63', 'C09', 'C17', 'A14', 'M06', 'T05', 'M07', 'M05', 'B05',\n",
       "       'T07', 'C18', 'C07', 'M11', 'D45', 'D43', 'T02', 'M04', 'D12',\n",
       "       'MN4', 'MN3', 'MN2', 'MN1', 'S04', 'S03', 'S02', 'D55', 'D92',\n",
       "       'D93', 'NK1', 'NK2', 'NK3', 'NK4', 'NK5', 'NK6', 'D41', 'R01',\n",
       "       'R02', 'R03', 'R04', 'D88', 'D99', 'D98', 'DD1', 'H', 'D69', 'V04',\n",
       "       'B(K)', 'D9()', 'T04', 'DH8', 'M08', 'D73', 'D74', 'D75', 'D76',\n",
       "       'D77', 'DH5', '00', 'Ngữ văn', 'Hình họa(hệ số 2)', 'Vẽ màu',\n",
       "       'Đọc - Kể diễn cảm', 'Hát', 'Thẩm âm', 'Đàn (hệ số 2)',\n",
       "       'Đàn - Hát(hệ số 2)', 'Múa (hệ số 2)', 'Hát (hệ số 2)', 'M10',\n",
       "       '001', 'M13', 'A12', 'C23', 'A18', 'M99', 'C10', 'C12', '004',\n",
       "       'Ngữ văn (xét học bạ)', 'C11', 'C24', 'Năng khiếu mầm non', 'N10',\n",
       "       'D40', 'D39', 'DH1'], dtype=object)"
      ]
     },
     "execution_count": 2,
     "metadata": {},
     "output_type": "execute_result"
    }
   ],
   "source": [
    "data = pd.read_csv('data/final-data.csv')\n",
    "data['subject_group'].unique()"
   ]
  },
  {
   "cell_type": "code",
   "execution_count": 3,
   "id": "52af7106",
   "metadata": {},
   "outputs": [
    {
     "data": {
      "text/plain": [
       "0        [A00]\n",
       "1        [A01]\n",
       "2        [C01]\n",
       "3        [D01]\n",
       "4        [A01]\n",
       "         ...  \n",
       "73069    [D07]\n",
       "73070    [A00]\n",
       "73071    [A01]\n",
       "73072    [D01]\n",
       "73073    [D07]\n",
       "Name: subject_group, Length: 73074, dtype: object"
      ]
     },
     "execution_count": 3,
     "metadata": {},
     "output_type": "execute_result"
    }
   ],
   "source": [
    "\n",
    "def split_subject_group(item):\n",
    "    if item is not np.nan:\n",
    "#         return re.split(':|: |\\. |;|/|\\.', item)\n",
    "        return re.findall(r\"[A-Z][0-9][0-9]\", item)\n",
    "    \n",
    "    return item\n",
    "\n",
    "data['subject_group'] = data['subject_group'].apply(split_subject_group)\n",
    "data['subject_group']"
   ]
  },
  {
   "cell_type": "code",
   "execution_count": 4,
   "id": "60a30b64",
   "metadata": {},
   "outputs": [
    {
     "data": {
      "text/plain": [
       "array(['A00', 'A01', 'C01', 'D01', 'D14', 'D15', 'A02', 'B00', 'D07',\n",
       "       'D08', 'D02', 'D03', 'D04', 'D06', 'C00', 'A04', 'M00', 'M01',\n",
       "       'M02', 'C02', nan, 'V00', 'V01', 'T00', 'T01', 'C14', 'C15', 'D10',\n",
       "       'H01', 'H02', 'H03', 'H04', 'V02', 'V03', 'B08', 'A10', 'D84',\n",
       "       'D66', 'C04', 'C05', 'C08', 'C19', 'D29', 'D44', 'D64', 'D24',\n",
       "       'B03', 'B02', 'A06', 'T06', 'M09', 'N00', 'H00', 'S00', 'R00',\n",
       "       'D90', 'D78', 'A08', 'A03', 'A07', 'A09', 'D96', 'B01', 'D09',\n",
       "       'C03', 'D68', 'D70', 'D62', 'D86', 'D87', 'D42', 'D05', 'M15',\n",
       "       'M14', 'M17', 'M22', 'M23', 'M25', 'M18', 'M21', 'M19', 'N01',\n",
       "       'N05', 'N07', 'N06', 'H05', 'H06', 'H07', 'N04', 'N02', 'N03',\n",
       "       'N08', 'M03', 'D72', 'A19', 'A16', 'A17', 'C16', 'D26', 'D27',\n",
       "       'D16', 'D17', 'D11', 'D82', 'D52', 'D54', 'D79', 'D80', 'D81',\n",
       "       'D83', 'V10', 'C20', 'K01', 'H08', 'A11', 'T03', 'V05', 'C22',\n",
       "       'S01', 'R12', 'R21', 'R13', 'R18', 'R06', 'R16', 'R22', 'R24',\n",
       "       'R25', 'R05', 'R19', 'R26', 'R15', 'R23', 'R11', 'R07', 'R08',\n",
       "       'R20', 'R09', 'R17', 'D97', 'D91', 'D94', 'A15', 'D71', 'D65',\n",
       "       'B04', 'D00', 'C13', 'D28', 'D23', 'D95', 'D31', 'D22', 'D21',\n",
       "       'D30', 'D25', 'D18', 'D19', 'D32', 'D34', 'V11', 'D33', 'V07',\n",
       "       'D35', 'V09', 'V08', 'D20', 'D13', 'A20', 'V06', 'A05', 'D63',\n",
       "       'C09', 'C17', 'A14', 'M06', 'T05', 'M07', 'M05', 'B05', 'T07',\n",
       "       'C18', 'C07', 'M11', 'D45', 'D43', 'T02', 'M04', 'D12', 'S04',\n",
       "       'S03', 'S02', 'D55', 'D92', 'D93', 'D41', 'R01', 'R02', 'R03',\n",
       "       'R04', 'D88', 'D99', 'D98', 'D69', 'V04', 'T04', 'M08', 'D73',\n",
       "       'D74', 'D75', 'D76', 'D77', 'M10', 'M13', 'A12', 'C23', 'A18',\n",
       "       'M99', 'C10', 'C12', 'C11', 'C24', 'N10', 'D40', 'D39'],\n",
       "      dtype=object)"
      ]
     },
     "execution_count": 4,
     "metadata": {},
     "output_type": "execute_result"
    }
   ],
   "source": [
    "final_data = data.explode('subject_group')\n",
    "final_data['subject_group'].unique()"
   ]
  },
  {
   "cell_type": "code",
   "execution_count": 5,
   "id": "8cb947ae",
   "metadata": {},
   "outputs": [],
   "source": [
    "final_data['subject_group'].fillna('Khác', inplace=True)"
   ]
  },
  {
   "cell_type": "code",
   "execution_count": 9,
   "id": "a7173751",
   "metadata": {},
   "outputs": [],
   "source": [
    "final_data = final_data[final_data['point'] < 30]"
   ]
  },
  {
   "cell_type": "code",
   "execution_count": 16,
   "id": "4e056427",
   "metadata": {},
   "outputs": [],
   "source": [
    "final_data['year'] = final_data['year'].astype('int')"
   ]
  },
  {
   "cell_type": "code",
   "execution_count": 17,
   "id": "1a0a746f",
   "metadata": {},
   "outputs": [],
   "source": [
    "final_data.to_csv('data/final-data.csv')"
   ]
  },
  {
   "cell_type": "code",
   "execution_count": null,
   "id": "91debe6b",
   "metadata": {},
   "outputs": [],
   "source": []
  }
 ],
 "metadata": {
  "kernelspec": {
   "display_name": "Python 3 (ipykernel)",
   "language": "python",
   "name": "python3"
  },
  "language_info": {
   "codemirror_mode": {
    "name": "ipython",
    "version": 3
   },
   "file_extension": ".py",
   "mimetype": "text/x-python",
   "name": "python",
   "nbconvert_exporter": "python",
   "pygments_lexer": "ipython3",
   "version": "3.10.1"
  }
 },
 "nbformat": 4,
 "nbformat_minor": 5
}
