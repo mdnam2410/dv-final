{
 "cells": [
  {
   "cell_type": "code",
   "execution_count": 22,
   "id": "a99f6caf",
   "metadata": {},
   "outputs": [],
   "source": [
    "import pandas as pd"
   ]
  },
  {
   "cell_type": "code",
   "execution_count": 23,
   "id": "dea21c9a",
   "metadata": {},
   "outputs": [
    {
     "data": {
      "text/html": [
       "<div>\n",
       "<style scoped>\n",
       "    .dataframe tbody tr th:only-of-type {\n",
       "        vertical-align: middle;\n",
       "    }\n",
       "\n",
       "    .dataframe tbody tr th {\n",
       "        vertical-align: top;\n",
       "    }\n",
       "\n",
       "    .dataframe thead th {\n",
       "        text-align: right;\n",
       "    }\n",
       "</style>\n",
       "<table border=\"1\" class=\"dataframe\">\n",
       "  <thead>\n",
       "    <tr style=\"text-align: right;\">\n",
       "      <th></th>\n",
       "      <th>Unnamed: 0</th>\n",
       "      <th>major_code</th>\n",
       "      <th>major_name</th>\n",
       "      <th>subject_group</th>\n",
       "      <th>point</th>\n",
       "      <th>note</th>\n",
       "      <th>year</th>\n",
       "      <th>university_code</th>\n",
       "      <th>university_name</th>\n",
       "      <th>url</th>\n",
       "    </tr>\n",
       "  </thead>\n",
       "  <tbody>\n",
       "    <tr>\n",
       "      <th>0</th>\n",
       "      <td>0</td>\n",
       "      <td>7620301</td>\n",
       "      <td>Nuôi trồng thủy sản</td>\n",
       "      <td>B</td>\n",
       "      <td>14.0</td>\n",
       "      <td>NaN</td>\n",
       "      <td>2014.0</td>\n",
       "      <td>HDT</td>\n",
       "      <td>Đại Học Hồng Đức</td>\n",
       "      <td>https://diemthi.tuyensinh247.com/diem-chuan/da...</td>\n",
       "    </tr>\n",
       "    <tr>\n",
       "      <th>1</th>\n",
       "      <td>1</td>\n",
       "      <td>7480101</td>\n",
       "      <td>Khoa học máy tính</td>\n",
       "      <td>A</td>\n",
       "      <td>26.5</td>\n",
       "      <td>(đã nhân hệ số 2 môn Toán)</td>\n",
       "      <td>2014.0</td>\n",
       "      <td>QSC</td>\n",
       "      <td>Đại Học Công Nghệ Thông Tin – Đại Học Quốc Gia...</td>\n",
       "      <td>https://diemthi.tuyensinh247.com/diem-chuan/da...</td>\n",
       "    </tr>\n",
       "    <tr>\n",
       "      <th>2</th>\n",
       "      <td>2</td>\n",
       "      <td>7620301</td>\n",
       "      <td>Nuôi trồng thủy sản</td>\n",
       "      <td>A</td>\n",
       "      <td>14.5</td>\n",
       "      <td>NaN</td>\n",
       "      <td>2014.0</td>\n",
       "      <td>DHL</td>\n",
       "      <td>Đại Học Nông Lâm – Đại Học Huế</td>\n",
       "      <td>https://diemthi.tuyensinh247.com/diem-chuan/da...</td>\n",
       "    </tr>\n",
       "    <tr>\n",
       "      <th>3</th>\n",
       "      <td>3</td>\n",
       "      <td>7850103</td>\n",
       "      <td>Quản lý đất đai</td>\n",
       "      <td>A</td>\n",
       "      <td>14.5</td>\n",
       "      <td>NaN</td>\n",
       "      <td>2014.0</td>\n",
       "      <td>DHL</td>\n",
       "      <td>Đại Học Nông Lâm – Đại Học Huế</td>\n",
       "      <td>https://diemthi.tuyensinh247.com/diem-chuan/da...</td>\n",
       "    </tr>\n",
       "    <tr>\n",
       "      <th>4</th>\n",
       "      <td>4</td>\n",
       "      <td>7620105</td>\n",
       "      <td>Chăn nuôi</td>\n",
       "      <td>A</td>\n",
       "      <td>16.0</td>\n",
       "      <td>NaN</td>\n",
       "      <td>2014.0</td>\n",
       "      <td>DHL</td>\n",
       "      <td>Đại Học Nông Lâm – Đại Học Huế</td>\n",
       "      <td>https://diemthi.tuyensinh247.com/diem-chuan/da...</td>\n",
       "    </tr>\n",
       "    <tr>\n",
       "      <th>...</th>\n",
       "      <td>...</td>\n",
       "      <td>...</td>\n",
       "      <td>...</td>\n",
       "      <td>...</td>\n",
       "      <td>...</td>\n",
       "      <td>...</td>\n",
       "      <td>...</td>\n",
       "      <td>...</td>\n",
       "      <td>...</td>\n",
       "      <td>...</td>\n",
       "    </tr>\n",
       "    <tr>\n",
       "      <th>68788</th>\n",
       "      <td>68788</td>\n",
       "      <td>7440102</td>\n",
       "      <td>Vật lý</td>\n",
       "      <td>A00; D01; C01; A01</td>\n",
       "      <td>15.0</td>\n",
       "      <td>Chương trình đại trà</td>\n",
       "      <td>2021.0</td>\n",
       "      <td>DTZ</td>\n",
       "      <td>Đại Học Khoa Học – Đại Học Thái Nguyên</td>\n",
       "      <td>https://diemthi.tuyensinh247.com/diem-chuan/da...</td>\n",
       "    </tr>\n",
       "    <tr>\n",
       "      <th>68789</th>\n",
       "      <td>68789</td>\n",
       "      <td>7340401</td>\n",
       "      <td>Khoa học quản lý</td>\n",
       "      <td>D01; C00; C14; D84</td>\n",
       "      <td>15.0</td>\n",
       "      <td>Chương trình đại trà</td>\n",
       "      <td>2021.0</td>\n",
       "      <td>DTZ</td>\n",
       "      <td>Đại Học Khoa Học – Đại Học Thái Nguyên</td>\n",
       "      <td>https://diemthi.tuyensinh247.com/diem-chuan/da...</td>\n",
       "    </tr>\n",
       "    <tr>\n",
       "      <th>68790</th>\n",
       "      <td>68790</td>\n",
       "      <td>7380101</td>\n",
       "      <td>Luật</td>\n",
       "      <td>D01; C00; C14; D84</td>\n",
       "      <td>15.0</td>\n",
       "      <td>Chương trình đại trà</td>\n",
       "      <td>2021.0</td>\n",
       "      <td>DTZ</td>\n",
       "      <td>Đại Học Khoa Học – Đại Học Thái Nguyên</td>\n",
       "      <td>https://diemthi.tuyensinh247.com/diem-chuan/da...</td>\n",
       "    </tr>\n",
       "    <tr>\n",
       "      <th>68791</th>\n",
       "      <td>68791</td>\n",
       "      <td>7810103_CLC</td>\n",
       "      <td>Quản trị khách sạn và Resort</td>\n",
       "      <td>C00; D01; C20; D66</td>\n",
       "      <td>16.5</td>\n",
       "      <td>Chương trình chất lượng cao</td>\n",
       "      <td>2021.0</td>\n",
       "      <td>DTZ</td>\n",
       "      <td>Đại Học Khoa Học – Đại Học Thái Nguyên</td>\n",
       "      <td>https://diemthi.tuyensinh247.com/diem-chuan/da...</td>\n",
       "    </tr>\n",
       "    <tr>\n",
       "      <th>68792</th>\n",
       "      <td>68792</td>\n",
       "      <td>7319001</td>\n",
       "      <td>Kinh tế giáo dục vùng dân tộc thiểu số</td>\n",
       "      <td>C00; C03; C04; D01</td>\n",
       "      <td>15.0</td>\n",
       "      <td>NaN</td>\n",
       "      <td>2021.0</td>\n",
       "      <td>HVD</td>\n",
       "      <td>Học Viện Dân Tộc</td>\n",
       "      <td>https://diemthi.tuyensinh247.com/diem-chuan/da...</td>\n",
       "    </tr>\n",
       "  </tbody>\n",
       "</table>\n",
       "<p>68793 rows × 10 columns</p>\n",
       "</div>"
      ],
      "text/plain": [
       "       Unnamed: 0   major_code                              major_name  \\\n",
       "0               0      7620301                     Nuôi trồng thủy sản   \n",
       "1               1      7480101                       Khoa học máy tính   \n",
       "2               2      7620301                     Nuôi trồng thủy sản   \n",
       "3               3      7850103                         Quản lý đất đai   \n",
       "4               4      7620105                               Chăn nuôi   \n",
       "...           ...          ...                                     ...   \n",
       "68788       68788      7440102                                  Vật lý   \n",
       "68789       68789      7340401                        Khoa học quản lý   \n",
       "68790       68790      7380101                                    Luật   \n",
       "68791       68791  7810103_CLC            Quản trị khách sạn và Resort   \n",
       "68792       68792      7319001  Kinh tế giáo dục vùng dân tộc thiểu số   \n",
       "\n",
       "            subject_group  point                         note    year  \\\n",
       "0                       B   14.0                          NaN  2014.0   \n",
       "1                       A   26.5   (đã nhân hệ số 2 môn Toán)  2014.0   \n",
       "2                       A   14.5                          NaN  2014.0   \n",
       "3                       A   14.5                          NaN  2014.0   \n",
       "4                       A   16.0                          NaN  2014.0   \n",
       "...                   ...    ...                          ...     ...   \n",
       "68788  A00; D01; C01; A01   15.0         Chương trình đại trà  2021.0   \n",
       "68789  D01; C00; C14; D84   15.0         Chương trình đại trà  2021.0   \n",
       "68790  D01; C00; C14; D84   15.0         Chương trình đại trà  2021.0   \n",
       "68791  C00; D01; C20; D66   16.5  Chương trình chất lượng cao  2021.0   \n",
       "68792  C00; C03; C04; D01   15.0                          NaN  2021.0   \n",
       "\n",
       "      university_code                                    university_name  \\\n",
       "0                 HDT                                   Đại Học Hồng Đức   \n",
       "1                 QSC  Đại Học Công Nghệ Thông Tin – Đại Học Quốc Gia...   \n",
       "2                 DHL                     Đại Học Nông Lâm – Đại Học Huế   \n",
       "3                 DHL                     Đại Học Nông Lâm – Đại Học Huế   \n",
       "4                 DHL                     Đại Học Nông Lâm – Đại Học Huế   \n",
       "...               ...                                                ...   \n",
       "68788             DTZ             Đại Học Khoa Học – Đại Học Thái Nguyên   \n",
       "68789             DTZ             Đại Học Khoa Học – Đại Học Thái Nguyên   \n",
       "68790             DTZ             Đại Học Khoa Học – Đại Học Thái Nguyên   \n",
       "68791             DTZ             Đại Học Khoa Học – Đại Học Thái Nguyên   \n",
       "68792             HVD                                   Học Viện Dân Tộc   \n",
       "\n",
       "                                                     url  \n",
       "0      https://diemthi.tuyensinh247.com/diem-chuan/da...  \n",
       "1      https://diemthi.tuyensinh247.com/diem-chuan/da...  \n",
       "2      https://diemthi.tuyensinh247.com/diem-chuan/da...  \n",
       "3      https://diemthi.tuyensinh247.com/diem-chuan/da...  \n",
       "4      https://diemthi.tuyensinh247.com/diem-chuan/da...  \n",
       "...                                                  ...  \n",
       "68788  https://diemthi.tuyensinh247.com/diem-chuan/da...  \n",
       "68789  https://diemthi.tuyensinh247.com/diem-chuan/da...  \n",
       "68790  https://diemthi.tuyensinh247.com/diem-chuan/da...  \n",
       "68791  https://diemthi.tuyensinh247.com/diem-chuan/da...  \n",
       "68792  https://diemthi.tuyensinh247.com/diem-chuan/da...  \n",
       "\n",
       "[68793 rows x 10 columns]"
      ]
     },
     "execution_count": 23,
     "metadata": {},
     "output_type": "execute_result"
    }
   ],
   "source": [
    "score_df = pd.read_csv('data/admission_score.csv')\n",
    "score_df"
   ]
  },
  {
   "cell_type": "code",
   "execution_count": 24,
   "id": "fc26805d",
   "metadata": {},
   "outputs": [
    {
     "data": {
      "text/html": [
       "<div>\n",
       "<style scoped>\n",
       "    .dataframe tbody tr th:only-of-type {\n",
       "        vertical-align: middle;\n",
       "    }\n",
       "\n",
       "    .dataframe tbody tr th {\n",
       "        vertical-align: top;\n",
       "    }\n",
       "\n",
       "    .dataframe thead th {\n",
       "        text-align: right;\n",
       "    }\n",
       "</style>\n",
       "<table border=\"1\" class=\"dataframe\">\n",
       "  <thead>\n",
       "    <tr style=\"text-align: right;\">\n",
       "      <th></th>\n",
       "      <th>university_code</th>\n",
       "      <th>province</th>\n",
       "    </tr>\n",
       "  </thead>\n",
       "  <tbody>\n",
       "    <tr>\n",
       "      <th>0</th>\n",
       "      <td>DBG</td>\n",
       "      <td>Bắc Giang</td>\n",
       "    </tr>\n",
       "    <tr>\n",
       "      <th>1</th>\n",
       "      <td>TDB</td>\n",
       "      <td>Bắc Ninh</td>\n",
       "    </tr>\n",
       "    <tr>\n",
       "      <th>3</th>\n",
       "      <td>UKB</td>\n",
       "      <td>Bắc Ninh</td>\n",
       "    </tr>\n",
       "    <tr>\n",
       "      <th>4</th>\n",
       "      <td>BHIU</td>\n",
       "      <td>Bắc Ninh</td>\n",
       "    </tr>\n",
       "    <tr>\n",
       "      <th>5</th>\n",
       "      <td>HCB / HCN</td>\n",
       "      <td>Bắc Ninh</td>\n",
       "    </tr>\n",
       "    <tr>\n",
       "      <th>...</th>\n",
       "      <td>...</td>\n",
       "      <td>...</td>\n",
       "    </tr>\n",
       "    <tr>\n",
       "      <th>318</th>\n",
       "      <td>DVH</td>\n",
       "      <td>Hồ Chí Minh</td>\n",
       "    </tr>\n",
       "    <tr>\n",
       "      <th>319</th>\n",
       "      <td>VPH (Hệ quân sự), ZPH (Hệ dân sự)</td>\n",
       "      <td>Hồ Chí Minh</td>\n",
       "    </tr>\n",
       "    <tr>\n",
       "      <th>320</th>\n",
       "      <td>QP02</td>\n",
       "      <td>Hồ Chí Minh</td>\n",
       "    </tr>\n",
       "    <tr>\n",
       "      <th>322</th>\n",
       "      <td>ANS</td>\n",
       "      <td>Hồ Chí Minh</td>\n",
       "    </tr>\n",
       "    <tr>\n",
       "      <th>323</th>\n",
       "      <td>CSS</td>\n",
       "      <td>Hồ Chí Minh</td>\n",
       "    </tr>\n",
       "  </tbody>\n",
       "</table>\n",
       "<p>285 rows × 2 columns</p>\n",
       "</div>"
      ],
      "text/plain": [
       "                       university_code     province\n",
       "0                                  DBG    Bắc Giang\n",
       "1                                  TDB     Bắc Ninh\n",
       "3                                  UKB     Bắc Ninh\n",
       "4                                 BHIU     Bắc Ninh\n",
       "5                            HCB / HCN     Bắc Ninh\n",
       "..                                 ...          ...\n",
       "318                                DVH  Hồ Chí Minh\n",
       "319  VPH (Hệ quân sự), ZPH (Hệ dân sự)  Hồ Chí Minh\n",
       "320                               QP02  Hồ Chí Minh\n",
       "322                                ANS  Hồ Chí Minh\n",
       "323                                CSS  Hồ Chí Minh\n",
       "\n",
       "[285 rows x 2 columns]"
      ]
     },
     "execution_count": 24,
     "metadata": {},
     "output_type": "execute_result"
    }
   ],
   "source": [
    "uni_dict = pd.read_csv('uni_dict.csv')\n",
    "uni_dict = uni_dict.dropna().rename(columns={'code': 'university_code'})\n",
    "uni_dict"
   ]
  },
  {
   "cell_type": "code",
   "execution_count": 25,
   "id": "d3898c38",
   "metadata": {},
   "outputs": [
    {
     "data": {
      "text/plain": [
       "269"
      ]
     },
     "execution_count": 25,
     "metadata": {},
     "output_type": "execute_result"
    }
   ],
   "source": [
    "uni_dict['university_code'].nunique()"
   ]
  },
  {
   "cell_type": "code",
   "execution_count": 36,
   "id": "a6ac5122",
   "metadata": {},
   "outputs": [
    {
     "data": {
      "text/plain": [
       "52"
      ]
     },
     "execution_count": 36,
     "metadata": {},
     "output_type": "execute_result"
    }
   ],
   "source": [
    "uni_dict['province'].nunique()"
   ]
  },
  {
   "cell_type": "code",
   "execution_count": 38,
   "id": "8c2e3464",
   "metadata": {},
   "outputs": [
    {
     "data": {
      "text/plain": [
       "481"
      ]
     },
     "execution_count": 38,
     "metadata": {},
     "output_type": "execute_result"
    }
   ],
   "source": [
    "score_df['university_code'].nunique()"
   ]
  },
  {
   "cell_type": "code",
   "execution_count": 28,
   "id": "6ab7674c",
   "metadata": {},
   "outputs": [],
   "source": [
    "merged_df = pd.merge(score_df, uni_dict)"
   ]
  },
  {
   "cell_type": "code",
   "execution_count": 30,
   "id": "45b58777",
   "metadata": {},
   "outputs": [],
   "source": [
    "merged_df.to_csv('data/final-data.csv')"
   ]
  },
  {
   "cell_type": "code",
   "execution_count": 34,
   "id": "0d2893b0",
   "metadata": {},
   "outputs": [
    {
     "data": {
      "text/plain": [
       "51"
      ]
     },
     "execution_count": 34,
     "metadata": {},
     "output_type": "execute_result"
    }
   ],
   "source": [
    "merged_df['province'].nunique()"
   ]
  },
  {
   "cell_type": "code",
   "execution_count": 33,
   "id": "e332fe39",
   "metadata": {},
   "outputs": [
    {
     "data": {
      "text/plain": [
       "0"
      ]
     },
     "execution_count": 33,
     "metadata": {},
     "output_type": "execute_result"
    }
   ],
   "source": [
    "merged_df['province'].isna().sum()"
   ]
  },
  {
   "cell_type": "code",
   "execution_count": null,
   "id": "1cfb18c3",
   "metadata": {},
   "outputs": [],
   "source": []
  }
 ],
 "metadata": {
  "kernelspec": {
   "display_name": "Python 3 (ipykernel)",
   "language": "python",
   "name": "python3"
  },
  "language_info": {
   "codemirror_mode": {
    "name": "ipython",
    "version": 3
   },
   "file_extension": ".py",
   "mimetype": "text/x-python",
   "name": "python",
   "nbconvert_exporter": "python",
   "pygments_lexer": "ipython3",
   "version": "3.10.1"
  }
 },
 "nbformat": 4,
 "nbformat_minor": 5
}
